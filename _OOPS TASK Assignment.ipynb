{
 "cells": [
  {
   "cell_type": "code",
   "execution_count": 2,
   "id": "8121e99c-72df-436b-a366-7bddaf385df1",
   "metadata": {},
   "outputs": [],
   "source": [
    "class vehicle:\n",
    "    def __init__(self,name_of_vehicle, max_speed, average_of_vehicle):\n",
    "        self.name_of_vehicle = name_of_vehicle\n",
    "        self.max_speed = max_speed\n",
    "        self.average_of_vehicle = average_of_vehicle"
   ]
  },
  {
   "cell_type": "code",
   "execution_count": 30,
   "id": "a4046eca-3bf9-49ad-9397-564b92d4ca8c",
   "metadata": {},
   "outputs": [],
   "source": [
    "class car(vehicle):\n",
    "    def seating_capacity(self, capacity):\n",
    "        self.seating_capacity = capacity\n",
    "        return (self.name_of_vehicle, self.seating_capacity)"
   ]
  },
  {
   "cell_type": "code",
   "execution_count": 31,
   "id": "c29ddaf9-4538-4fcc-af4d-a2c978fcfcb3",
   "metadata": {},
   "outputs": [],
   "source": [
    "car = car(\"Innova\", 200, 90)"
   ]
  },
  {
   "cell_type": "code",
   "execution_count": 32,
   "id": "9c5a03ea-344d-4c98-a205-bb5c79d6a0f4",
   "metadata": {},
   "outputs": [
    {
     "data": {
      "text/plain": [
       "('Innova', 6)"
      ]
     },
     "execution_count": 32,
     "metadata": {},
     "output_type": "execute_result"
    }
   ],
   "source": [
    "car.seating_capacity(6)"
   ]
  },
  {
   "cell_type": "code",
   "execution_count": 33,
   "id": "f87191a0-d323-43ef-8896-7e80e3f7c745",
   "metadata": {},
   "outputs": [],
   "source": [
    "# Multiple Inheritance : If a class inherits more than two properties of other classes then it is called multiple inheritance"
   ]
  },
  {
   "cell_type": "code",
   "execution_count": 34,
   "id": "5dbb23f8-d9a1-4567-b9a3-14318af16c16",
   "metadata": {},
   "outputs": [],
   "source": [
    "class classA:\n",
    "    def viewA():\n",
    "        return \"This is class A\""
   ]
  },
  {
   "cell_type": "code",
   "execution_count": 35,
   "id": "b711b873-44a2-41ba-81a3-6180a63e76f1",
   "metadata": {},
   "outputs": [],
   "source": [
    "class classB:\n",
    "    def viewB():\n",
    "        return \"This is class B\""
   ]
  },
  {
   "cell_type": "code",
   "execution_count": 36,
   "id": "c9051610-6d23-45e0-9e5f-7ff2f17d571f",
   "metadata": {},
   "outputs": [],
   "source": [
    "class classC(classA, classB):\n",
    "    def viewC():\n",
    "        return \"This is class C\""
   ]
  },
  {
   "cell_type": "code",
   "execution_count": 46,
   "id": "5487347f-5670-4c91-aacb-370617e52001",
   "metadata": {},
   "outputs": [],
   "source": [
    "obj_C = classC"
   ]
  },
  {
   "cell_type": "code",
   "execution_count": 47,
   "id": "ea71a206-142f-4786-a62e-65bb60b94ef0",
   "metadata": {},
   "outputs": [],
   "source": [
    "#Getter and Setter : Getter is used to get data from class and Setter a data is used to set data for a class. Both these methods are used so that private variable cannot be accessed or changed directly by external user."
   ]
  },
  {
   "cell_type": "code",
   "execution_count": 65,
   "id": "5e5ab485-9a14-4d3d-a597-d7f65cc9437e",
   "metadata": {},
   "outputs": [],
   "source": [
    "class student_detail():\n",
    "    def __init__(self, student_name, student_age, student_id):\n",
    "        self.__student_name = student_name\n",
    "        self.__student_age = student_age\n",
    "        self.__student_id = student_id\n",
    "    def set_age(self,age):\n",
    "        self.__student_age = age\n",
    "    def get_id(self):\n",
    "        return self.__student_id"
   ]
  },
  {
   "cell_type": "code",
   "execution_count": 66,
   "id": "a8bc51db-6704-499d-91cc-b58ed92ade38",
   "metadata": {},
   "outputs": [],
   "source": [
    "student = student_detail('Sujeet Kumar', 20, 1214)"
   ]
  },
  {
   "cell_type": "code",
   "execution_count": 67,
   "id": "50457bec-ab5b-4aae-a5bd-fb5e3267b278",
   "metadata": {},
   "outputs": [],
   "source": [
    "student.set_age(21)"
   ]
  },
  {
   "cell_type": "code",
   "execution_count": 68,
   "id": "de564b1c-1dd6-445d-afcf-eebf43895f6f",
   "metadata": {},
   "outputs": [
    {
     "data": {
      "text/plain": [
       "1214"
      ]
     },
     "execution_count": 68,
     "metadata": {},
     "output_type": "execute_result"
    }
   ],
   "source": [
    "student.get_id()"
   ]
  },
  {
   "cell_type": "code",
   "execution_count": 39,
   "id": "4f82b664-e7d0-4d7a-9541-2f063018cf3f",
   "metadata": {},
   "outputs": [],
   "source": [
    "#Method overriding meand if there are two classes : Parent class and Child CLass and if the child class has same method as parent class then it will override the parent class"
   ]
  },
  {
   "cell_type": "code",
   "execution_count": 40,
   "id": "9aced4f7-ecbc-4ca9-9adf-12465f320fe9",
   "metadata": {},
   "outputs": [],
   "source": [
    "class ClassA:\n",
    "    def view():\n",
    "        return \"This is class A\"    "
   ]
  },
  {
   "cell_type": "code",
   "execution_count": 41,
   "id": "acbbc169-48cc-4241-af82-a9347ed6dbf4",
   "metadata": {},
   "outputs": [],
   "source": [
    "class ClassB(ClassA):\n",
    "    def view():\n",
    "        return \"This is class B\""
   ]
  },
  {
   "cell_type": "code",
   "execution_count": 44,
   "id": "dafde102-1a9c-4b72-b54c-bd5d022a2266",
   "metadata": {},
   "outputs": [],
   "source": [
    "obj_B = ClassB"
   ]
  },
  {
   "cell_type": "code",
   "execution_count": 45,
   "id": "8abcab6e-1648-4cc7-92cb-320260c98f35",
   "metadata": {},
   "outputs": [
    {
     "data": {
      "text/plain": [
       "'This is class B'"
      ]
     },
     "execution_count": 45,
     "metadata": {},
     "output_type": "execute_result"
    }
   ],
   "source": [
    "obj_B.view()"
   ]
  }
 ],
 "metadata": {
  "kernelspec": {
   "display_name": "Python 3 (ipykernel)",
   "language": "python",
   "name": "python3"
  },
  "language_info": {
   "codemirror_mode": {
    "name": "ipython",
    "version": 3
   },
   "file_extension": ".py",
   "mimetype": "text/x-python",
   "name": "python",
   "nbconvert_exporter": "python",
   "pygments_lexer": "ipython3",
   "version": "3.10.8"
  }
 },
 "nbformat": 4,
 "nbformat_minor": 5
}
