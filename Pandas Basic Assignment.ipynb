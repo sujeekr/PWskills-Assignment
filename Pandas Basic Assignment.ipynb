{
 "cells": [
  {
   "cell_type": "code",
   "execution_count": 31,
   "id": "d6fe47cc-bf40-4d32-b881-d712e13ef7e1",
   "metadata": {},
   "outputs": [],
   "source": [
    "import pandas as pd"
   ]
  },
  {
   "cell_type": "code",
   "execution_count": 32,
   "id": "7499c763-1fb3-4c5e-926e-277250b072d6",
   "metadata": {},
   "outputs": [],
   "source": [
    "l = [4,8,15,16,23,42]"
   ]
  },
  {
   "cell_type": "code",
   "execution_count": 33,
   "id": "0d8ccecd-3ad3-4089-8a14-298889a8c321",
   "metadata": {},
   "outputs": [],
   "source": [
    "data = pd.Series(l)"
   ]
  },
  {
   "cell_type": "code",
   "execution_count": 34,
   "id": "293567e8-adde-44dc-8020-66fdedf4569a",
   "metadata": {},
   "outputs": [
    {
     "data": {
      "text/plain": [
       "0     4\n",
       "1     8\n",
       "2    15\n",
       "3    16\n",
       "4    23\n",
       "5    42\n",
       "dtype: int64"
      ]
     },
     "execution_count": 34,
     "metadata": {},
     "output_type": "execute_result"
    }
   ],
   "source": [
    "data"
   ]
  },
  {
   "cell_type": "code",
   "execution_count": 35,
   "id": "21f4eb1e-b52b-4138-a661-7df9e7fdb2f6",
   "metadata": {},
   "outputs": [],
   "source": [
    "list1 = [\"Sujeet\", \"Kumar\", \"Pwskills\", \"Data Science Masters 2.0\", \"Python\", \"MySql\", \"Libraries\", \"Pandas\", \"Numpy\", \"pw.live\"]"
   ]
  },
  {
   "cell_type": "code",
   "execution_count": 36,
   "id": "bcd53c99-1f4f-4d1f-968b-97499b7a6996",
   "metadata": {},
   "outputs": [],
   "source": [
    "pandas_list = pd.Series(list1)"
   ]
  },
  {
   "cell_type": "code",
   "execution_count": 37,
   "id": "724f4b13-8611-45db-bcad-f73f7a72545e",
   "metadata": {},
   "outputs": [
    {
     "data": {
      "text/plain": [
       "0                      Sujeet\n",
       "1                       Kumar\n",
       "2                    Pwskills\n",
       "3    Data Science Masters 2.0\n",
       "4                      Python\n",
       "5                       MySql\n",
       "6                   Libraries\n",
       "7                      Pandas\n",
       "8                       Numpy\n",
       "9                     pw.live\n",
       "dtype: object"
      ]
     },
     "execution_count": 37,
     "metadata": {},
     "output_type": "execute_result"
    }
   ],
   "source": [
    "pandas_list"
   ]
  },
  {
   "cell_type": "code",
   "execution_count": 38,
   "id": "5f885ea6-548a-4765-89cf-8e1a2dd0c044",
   "metadata": {},
   "outputs": [],
   "source": [
    "data = [[\"Alice\", 25, \"Female\"], [\"Bob\", 30, \"Male\"], [\"Claire\", 27, \"Female\"]]"
   ]
  },
  {
   "cell_type": "code",
   "execution_count": 39,
   "id": "f2a5109d-5b4a-4d18-b485-92285e658922",
   "metadata": {},
   "outputs": [],
   "source": [
    "DataFrame = pd.DataFrame(data, columns = [\"Name\", \"Age\", \"Gender\"])"
   ]
  },
  {
   "cell_type": "code",
   "execution_count": 40,
   "id": "c26befc8-3e01-498b-8ed5-db46675a65d2",
   "metadata": {},
   "outputs": [
    {
     "name": "stdout",
     "output_type": "stream",
     "text": [
      "     Name  Age  Gender\n",
      "0   Alice   25  Female\n",
      "1     Bob   30    Male\n",
      "2  Claire   27  Female\n"
     ]
    }
   ],
   "source": [
    "print(DataFrame)"
   ]
  },
  {
   "cell_type": "code",
   "execution_count": 41,
   "id": "0b911c7b-b5b5-4720-af6b-c2ee9c1fad20",
   "metadata": {},
   "outputs": [],
   "source": [
    "# What is DataFrame in Pandas : A dataframe is 2 dimensional data structure like 2D list.\n",
    "# How it is different from pandas.series : A data frame is 2 dimensional data structure consisting of rows and columns and series is a 1 dimensional data structure used to represent used to represent single column or row."
   ]
  },
  {
   "cell_type": "code",
   "execution_count": 42,
   "id": "ea2b3f2c-923a-4893-88fe-39e19d4d8914",
   "metadata": {},
   "outputs": [],
   "source": [
    "# We can drop columns and Rows from the data, We can rename a column in the dataset"
   ]
  },
  {
   "cell_type": "code",
   "execution_count": 43,
   "id": "c983e9d1-6893-456b-a9d1-ea1a75ea4e24",
   "metadata": {},
   "outputs": [],
   "source": [
    "df = pd.read_csv('https://raw.githubusercontent.com/datasciencedojo/datasets/master/titanic.csv')"
   ]
  },
  {
   "cell_type": "code",
   "execution_count": 44,
   "id": "7831c136-e3c6-4bc8-b94b-5140b05e5e71",
   "metadata": {},
   "outputs": [
    {
     "data": {
      "text/html": [
       "<div>\n",
       "<style scoped>\n",
       "    .dataframe tbody tr th:only-of-type {\n",
       "        vertical-align: middle;\n",
       "    }\n",
       "\n",
       "    .dataframe tbody tr th {\n",
       "        vertical-align: top;\n",
       "    }\n",
       "\n",
       "    .dataframe thead th {\n",
       "        text-align: right;\n",
       "    }\n",
       "</style>\n",
       "<table border=\"1\" class=\"dataframe\">\n",
       "  <thead>\n",
       "    <tr style=\"text-align: right;\">\n",
       "      <th></th>\n",
       "      <th>PassengerId</th>\n",
       "      <th>Survived</th>\n",
       "      <th>Pclass</th>\n",
       "      <th>Name</th>\n",
       "      <th>Sex</th>\n",
       "      <th>Age</th>\n",
       "      <th>SibSp</th>\n",
       "      <th>Parch</th>\n",
       "      <th>Ticket</th>\n",
       "      <th>Fare</th>\n",
       "      <th>Cabin</th>\n",
       "      <th>Embarked</th>\n",
       "    </tr>\n",
       "  </thead>\n",
       "  <tbody>\n",
       "    <tr>\n",
       "      <th>886</th>\n",
       "      <td>887</td>\n",
       "      <td>0</td>\n",
       "      <td>2</td>\n",
       "      <td>Montvila, Rev. Juozas</td>\n",
       "      <td>male</td>\n",
       "      <td>27.0</td>\n",
       "      <td>0</td>\n",
       "      <td>0</td>\n",
       "      <td>211536</td>\n",
       "      <td>13.00</td>\n",
       "      <td>NaN</td>\n",
       "      <td>S</td>\n",
       "    </tr>\n",
       "    <tr>\n",
       "      <th>887</th>\n",
       "      <td>888</td>\n",
       "      <td>1</td>\n",
       "      <td>1</td>\n",
       "      <td>Graham, Miss. Margaret Edith</td>\n",
       "      <td>female</td>\n",
       "      <td>19.0</td>\n",
       "      <td>0</td>\n",
       "      <td>0</td>\n",
       "      <td>112053</td>\n",
       "      <td>30.00</td>\n",
       "      <td>B42</td>\n",
       "      <td>S</td>\n",
       "    </tr>\n",
       "    <tr>\n",
       "      <th>888</th>\n",
       "      <td>889</td>\n",
       "      <td>0</td>\n",
       "      <td>3</td>\n",
       "      <td>Johnston, Miss. Catherine Helen \"Carrie\"</td>\n",
       "      <td>female</td>\n",
       "      <td>NaN</td>\n",
       "      <td>1</td>\n",
       "      <td>2</td>\n",
       "      <td>W./C. 6607</td>\n",
       "      <td>23.45</td>\n",
       "      <td>NaN</td>\n",
       "      <td>S</td>\n",
       "    </tr>\n",
       "    <tr>\n",
       "      <th>889</th>\n",
       "      <td>890</td>\n",
       "      <td>1</td>\n",
       "      <td>1</td>\n",
       "      <td>Behr, Mr. Karl Howell</td>\n",
       "      <td>male</td>\n",
       "      <td>26.0</td>\n",
       "      <td>0</td>\n",
       "      <td>0</td>\n",
       "      <td>111369</td>\n",
       "      <td>30.00</td>\n",
       "      <td>C148</td>\n",
       "      <td>C</td>\n",
       "    </tr>\n",
       "    <tr>\n",
       "      <th>890</th>\n",
       "      <td>891</td>\n",
       "      <td>0</td>\n",
       "      <td>3</td>\n",
       "      <td>Dooley, Mr. Patrick</td>\n",
       "      <td>male</td>\n",
       "      <td>32.0</td>\n",
       "      <td>0</td>\n",
       "      <td>0</td>\n",
       "      <td>370376</td>\n",
       "      <td>7.75</td>\n",
       "      <td>NaN</td>\n",
       "      <td>Q</td>\n",
       "    </tr>\n",
       "  </tbody>\n",
       "</table>\n",
       "</div>"
      ],
      "text/plain": [
       "     PassengerId  Survived  Pclass                                      Name  \\\n",
       "886          887         0       2                     Montvila, Rev. Juozas   \n",
       "887          888         1       1              Graham, Miss. Margaret Edith   \n",
       "888          889         0       3  Johnston, Miss. Catherine Helen \"Carrie\"   \n",
       "889          890         1       1                     Behr, Mr. Karl Howell   \n",
       "890          891         0       3                       Dooley, Mr. Patrick   \n",
       "\n",
       "        Sex   Age  SibSp  Parch      Ticket   Fare Cabin Embarked  \n",
       "886    male  27.0      0      0      211536  13.00   NaN        S  \n",
       "887  female  19.0      0      0      112053  30.00   B42        S  \n",
       "888  female   NaN      1      2  W./C. 6607  23.45   NaN        S  \n",
       "889    male  26.0      0      0      111369  30.00  C148        C  \n",
       "890    male  32.0      0      0      370376   7.75   NaN        Q  "
      ]
     },
     "execution_count": 44,
     "metadata": {},
     "output_type": "execute_result"
    }
   ],
   "source": [
    "df.tail()"
   ]
  },
  {
   "cell_type": "code",
   "execution_count": 45,
   "id": "fbab9e4d-1fe6-4415-b67f-f43e1fde67ff",
   "metadata": {},
   "outputs": [],
   "source": [
    "data_dropped = df.drop('Age', axis=1)"
   ]
  },
  {
   "cell_type": "code",
   "execution_count": null,
   "id": "6976f5f5-18e5-4ce9-ba65-3b58623bfdfe",
   "metadata": {},
   "outputs": [],
   "source": []
  },
  {
   "cell_type": "code",
   "execution_count": 20,
   "id": "c2d04a17-3ad3-4177-9c51-8d8a2cb900f0",
   "metadata": {},
   "outputs": [],
   "source": [
    "# DataFrame and Panel are mutable data type."
   ]
  },
  {
   "cell_type": "code",
   "execution_count": 49,
   "id": "0440be83-5fbe-442c-884b-6ca784c11c05",
   "metadata": {},
   "outputs": [],
   "source": [
    "Courses = pd.Series(['datascience', 'Decode with C++', 'Decode with Java'], name = \"Courses\")\n",
    "fees = pd.Series([3500, 5999, 5999], name = \"Fees\")\n",
    "date = pd.Series([\"20 Feb 2023\", \"15 Dec 2023\", \"1 Feb 2024\"], name = \"Launch Date\")"
   ]
  },
  {
   "cell_type": "code",
   "execution_count": 29,
   "id": "6885af1a-75cc-45de-8d6f-136ed5f342ef",
   "metadata": {},
   "outputs": [
    {
     "data": {
      "text/plain": [
       "0         datascience\n",
       "1     Decode with C++\n",
       "2    Decode with Java\n",
       "dtype: object"
      ]
     },
     "execution_count": 29,
     "metadata": {},
     "output_type": "execute_result"
    }
   ],
   "source": [
    "Courses"
   ]
  },
  {
   "cell_type": "code",
   "execution_count": 50,
   "id": "4320cb41-4d7f-420f-ab93-300c9cc28cd5",
   "metadata": {},
   "outputs": [],
   "source": [
    "df2 = pd.concat([Courses, fees, date], axis = 1)"
   ]
  },
  {
   "cell_type": "code",
   "execution_count": 51,
   "id": "14d14a6f-69ce-4fc4-9213-5c95bf10edd6",
   "metadata": {},
   "outputs": [
    {
     "data": {
      "text/html": [
       "<div>\n",
       "<style scoped>\n",
       "    .dataframe tbody tr th:only-of-type {\n",
       "        vertical-align: middle;\n",
       "    }\n",
       "\n",
       "    .dataframe tbody tr th {\n",
       "        vertical-align: top;\n",
       "    }\n",
       "\n",
       "    .dataframe thead th {\n",
       "        text-align: right;\n",
       "    }\n",
       "</style>\n",
       "<table border=\"1\" class=\"dataframe\">\n",
       "  <thead>\n",
       "    <tr style=\"text-align: right;\">\n",
       "      <th></th>\n",
       "      <th>Courses</th>\n",
       "      <th>Fees</th>\n",
       "      <th>Launch Date</th>\n",
       "    </tr>\n",
       "  </thead>\n",
       "  <tbody>\n",
       "    <tr>\n",
       "      <th>0</th>\n",
       "      <td>datascience</td>\n",
       "      <td>3500</td>\n",
       "      <td>20 Feb 2023</td>\n",
       "    </tr>\n",
       "    <tr>\n",
       "      <th>1</th>\n",
       "      <td>Decode with C++</td>\n",
       "      <td>5999</td>\n",
       "      <td>15 Dec 2023</td>\n",
       "    </tr>\n",
       "    <tr>\n",
       "      <th>2</th>\n",
       "      <td>Decode with Java</td>\n",
       "      <td>5999</td>\n",
       "      <td>1 Feb 2024</td>\n",
       "    </tr>\n",
       "  </tbody>\n",
       "</table>\n",
       "</div>"
      ],
      "text/plain": [
       "            Courses  Fees  Launch Date\n",
       "0       datascience  3500  20 Feb 2023\n",
       "1   Decode with C++  5999  15 Dec 2023\n",
       "2  Decode with Java  5999   1 Feb 2024"
      ]
     },
     "execution_count": 51,
     "metadata": {},
     "output_type": "execute_result"
    }
   ],
   "source": [
    "df2"
   ]
  }
 ],
 "metadata": {
  "kernelspec": {
   "display_name": "Python 3 (ipykernel)",
   "language": "python",
   "name": "python3"
  },
  "language_info": {
   "codemirror_mode": {
    "name": "ipython",
    "version": 3
   },
   "file_extension": ".py",
   "mimetype": "text/x-python",
   "name": "python",
   "nbconvert_exporter": "python",
   "pygments_lexer": "ipython3",
   "version": "3.10.8"
  }
 },
 "nbformat": 4,
 "nbformat_minor": 5
}
