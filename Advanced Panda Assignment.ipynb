{
 "cells": [
  {
   "cell_type": "code",
   "execution_count": 1,
   "id": "8014983b-7bf7-4f09-af9e-65e8c7081f06",
   "metadata": {},
   "outputs": [],
   "source": [
    "#Functions of Panda:-\n",
    "#1.read_csv() : reads data seperated by comma\n",
    "#2.head() : gives dataframe of top 5 rows\n",
    "#3. describe() : gives statitical analysis of data9(of int and float type data)\n",
    "#4. loc[:] : Give output of groups and rows\n",
    "#5. Categorical() : Gives how many categories of data in column"
   ]
  },
  {
   "cell_type": "code",
   "execution_count": 4,
   "id": "601bd3eb-f1e2-47ea-83ae-fa0c70309778",
   "metadata": {},
   "outputs": [],
   "source": [
    "#1. read_csv()\n",
    "import pandas as pd\n",
    "df = pd.read_csv(\"https://raw.githubusercontent.com/datasciencedojo/datasets/master/titanic.csv\")"
   ]
  },
  {
   "cell_type": "code",
   "execution_count": 3,
   "id": "8fbcd4b6-2856-458c-bfb1-b341818ee5b5",
   "metadata": {},
   "outputs": [
    {
     "data": {
      "text/html": [
       "<div>\n",
       "<style scoped>\n",
       "    .dataframe tbody tr th:only-of-type {\n",
       "        vertical-align: middle;\n",
       "    }\n",
       "\n",
       "    .dataframe tbody tr th {\n",
       "        vertical-align: top;\n",
       "    }\n",
       "\n",
       "    .dataframe thead th {\n",
       "        text-align: right;\n",
       "    }\n",
       "</style>\n",
       "<table border=\"1\" class=\"dataframe\">\n",
       "  <thead>\n",
       "    <tr style=\"text-align: right;\">\n",
       "      <th></th>\n",
       "      <th>PassengerId</th>\n",
       "      <th>Survived</th>\n",
       "      <th>Pclass</th>\n",
       "      <th>Name</th>\n",
       "      <th>Sex</th>\n",
       "      <th>Age</th>\n",
       "      <th>SibSp</th>\n",
       "      <th>Parch</th>\n",
       "      <th>Ticket</th>\n",
       "      <th>Fare</th>\n",
       "      <th>Cabin</th>\n",
       "      <th>Embarked</th>\n",
       "    </tr>\n",
       "  </thead>\n",
       "  <tbody>\n",
       "    <tr>\n",
       "      <th>0</th>\n",
       "      <td>1</td>\n",
       "      <td>0</td>\n",
       "      <td>3</td>\n",
       "      <td>Braund, Mr. Owen Harris</td>\n",
       "      <td>male</td>\n",
       "      <td>22.0</td>\n",
       "      <td>1</td>\n",
       "      <td>0</td>\n",
       "      <td>A/5 21171</td>\n",
       "      <td>7.2500</td>\n",
       "      <td>NaN</td>\n",
       "      <td>S</td>\n",
       "    </tr>\n",
       "    <tr>\n",
       "      <th>1</th>\n",
       "      <td>2</td>\n",
       "      <td>1</td>\n",
       "      <td>1</td>\n",
       "      <td>Cumings, Mrs. John Bradley (Florence Briggs Th...</td>\n",
       "      <td>female</td>\n",
       "      <td>38.0</td>\n",
       "      <td>1</td>\n",
       "      <td>0</td>\n",
       "      <td>PC 17599</td>\n",
       "      <td>71.2833</td>\n",
       "      <td>C85</td>\n",
       "      <td>C</td>\n",
       "    </tr>\n",
       "    <tr>\n",
       "      <th>2</th>\n",
       "      <td>3</td>\n",
       "      <td>1</td>\n",
       "      <td>3</td>\n",
       "      <td>Heikkinen, Miss. Laina</td>\n",
       "      <td>female</td>\n",
       "      <td>26.0</td>\n",
       "      <td>0</td>\n",
       "      <td>0</td>\n",
       "      <td>STON/O2. 3101282</td>\n",
       "      <td>7.9250</td>\n",
       "      <td>NaN</td>\n",
       "      <td>S</td>\n",
       "    </tr>\n",
       "    <tr>\n",
       "      <th>3</th>\n",
       "      <td>4</td>\n",
       "      <td>1</td>\n",
       "      <td>1</td>\n",
       "      <td>Futrelle, Mrs. Jacques Heath (Lily May Peel)</td>\n",
       "      <td>female</td>\n",
       "      <td>35.0</td>\n",
       "      <td>1</td>\n",
       "      <td>0</td>\n",
       "      <td>113803</td>\n",
       "      <td>53.1000</td>\n",
       "      <td>C123</td>\n",
       "      <td>S</td>\n",
       "    </tr>\n",
       "    <tr>\n",
       "      <th>4</th>\n",
       "      <td>5</td>\n",
       "      <td>0</td>\n",
       "      <td>3</td>\n",
       "      <td>Allen, Mr. William Henry</td>\n",
       "      <td>male</td>\n",
       "      <td>35.0</td>\n",
       "      <td>0</td>\n",
       "      <td>0</td>\n",
       "      <td>373450</td>\n",
       "      <td>8.0500</td>\n",
       "      <td>NaN</td>\n",
       "      <td>S</td>\n",
       "    </tr>\n",
       "  </tbody>\n",
       "</table>\n",
       "</div>"
      ],
      "text/plain": [
       "   PassengerId  Survived  Pclass  \\\n",
       "0            1         0       3   \n",
       "1            2         1       1   \n",
       "2            3         1       3   \n",
       "3            4         1       1   \n",
       "4            5         0       3   \n",
       "\n",
       "                                                Name     Sex   Age  SibSp  \\\n",
       "0                            Braund, Mr. Owen Harris    male  22.0      1   \n",
       "1  Cumings, Mrs. John Bradley (Florence Briggs Th...  female  38.0      1   \n",
       "2                             Heikkinen, Miss. Laina  female  26.0      0   \n",
       "3       Futrelle, Mrs. Jacques Heath (Lily May Peel)  female  35.0      1   \n",
       "4                           Allen, Mr. William Henry    male  35.0      0   \n",
       "\n",
       "   Parch            Ticket     Fare Cabin Embarked  \n",
       "0      0         A/5 21171   7.2500   NaN        S  \n",
       "1      0          PC 17599  71.2833   C85        C  \n",
       "2      0  STON/O2. 3101282   7.9250   NaN        S  \n",
       "3      0            113803  53.1000  C123        S  \n",
       "4      0            373450   8.0500   NaN        S  "
      ]
     },
     "execution_count": 3,
     "metadata": {},
     "output_type": "execute_result"
    }
   ],
   "source": [
    "#1 head()\n",
    "df.head()"
   ]
  },
  {
   "cell_type": "code",
   "execution_count": 5,
   "id": "45e6b8aa-c0db-4463-bc9f-ea1eaf59b972",
   "metadata": {},
   "outputs": [
    {
     "data": {
      "text/html": [
       "<div>\n",
       "<style scoped>\n",
       "    .dataframe tbody tr th:only-of-type {\n",
       "        vertical-align: middle;\n",
       "    }\n",
       "\n",
       "    .dataframe tbody tr th {\n",
       "        vertical-align: top;\n",
       "    }\n",
       "\n",
       "    .dataframe thead th {\n",
       "        text-align: right;\n",
       "    }\n",
       "</style>\n",
       "<table border=\"1\" class=\"dataframe\">\n",
       "  <thead>\n",
       "    <tr style=\"text-align: right;\">\n",
       "      <th></th>\n",
       "      <th>PassengerId</th>\n",
       "      <th>Survived</th>\n",
       "      <th>Pclass</th>\n",
       "      <th>Age</th>\n",
       "      <th>SibSp</th>\n",
       "      <th>Parch</th>\n",
       "      <th>Fare</th>\n",
       "    </tr>\n",
       "  </thead>\n",
       "  <tbody>\n",
       "    <tr>\n",
       "      <th>count</th>\n",
       "      <td>891.000000</td>\n",
       "      <td>891.000000</td>\n",
       "      <td>891.000000</td>\n",
       "      <td>714.000000</td>\n",
       "      <td>891.000000</td>\n",
       "      <td>891.000000</td>\n",
       "      <td>891.000000</td>\n",
       "    </tr>\n",
       "    <tr>\n",
       "      <th>mean</th>\n",
       "      <td>446.000000</td>\n",
       "      <td>0.383838</td>\n",
       "      <td>2.308642</td>\n",
       "      <td>29.699118</td>\n",
       "      <td>0.523008</td>\n",
       "      <td>0.381594</td>\n",
       "      <td>32.204208</td>\n",
       "    </tr>\n",
       "    <tr>\n",
       "      <th>std</th>\n",
       "      <td>257.353842</td>\n",
       "      <td>0.486592</td>\n",
       "      <td>0.836071</td>\n",
       "      <td>14.526497</td>\n",
       "      <td>1.102743</td>\n",
       "      <td>0.806057</td>\n",
       "      <td>49.693429</td>\n",
       "    </tr>\n",
       "    <tr>\n",
       "      <th>min</th>\n",
       "      <td>1.000000</td>\n",
       "      <td>0.000000</td>\n",
       "      <td>1.000000</td>\n",
       "      <td>0.420000</td>\n",
       "      <td>0.000000</td>\n",
       "      <td>0.000000</td>\n",
       "      <td>0.000000</td>\n",
       "    </tr>\n",
       "    <tr>\n",
       "      <th>25%</th>\n",
       "      <td>223.500000</td>\n",
       "      <td>0.000000</td>\n",
       "      <td>2.000000</td>\n",
       "      <td>20.125000</td>\n",
       "      <td>0.000000</td>\n",
       "      <td>0.000000</td>\n",
       "      <td>7.910400</td>\n",
       "    </tr>\n",
       "    <tr>\n",
       "      <th>50%</th>\n",
       "      <td>446.000000</td>\n",
       "      <td>0.000000</td>\n",
       "      <td>3.000000</td>\n",
       "      <td>28.000000</td>\n",
       "      <td>0.000000</td>\n",
       "      <td>0.000000</td>\n",
       "      <td>14.454200</td>\n",
       "    </tr>\n",
       "    <tr>\n",
       "      <th>75%</th>\n",
       "      <td>668.500000</td>\n",
       "      <td>1.000000</td>\n",
       "      <td>3.000000</td>\n",
       "      <td>38.000000</td>\n",
       "      <td>1.000000</td>\n",
       "      <td>0.000000</td>\n",
       "      <td>31.000000</td>\n",
       "    </tr>\n",
       "    <tr>\n",
       "      <th>max</th>\n",
       "      <td>891.000000</td>\n",
       "      <td>1.000000</td>\n",
       "      <td>3.000000</td>\n",
       "      <td>80.000000</td>\n",
       "      <td>8.000000</td>\n",
       "      <td>6.000000</td>\n",
       "      <td>512.329200</td>\n",
       "    </tr>\n",
       "  </tbody>\n",
       "</table>\n",
       "</div>"
      ],
      "text/plain": [
       "       PassengerId    Survived      Pclass         Age       SibSp  \\\n",
       "count   891.000000  891.000000  891.000000  714.000000  891.000000   \n",
       "mean    446.000000    0.383838    2.308642   29.699118    0.523008   \n",
       "std     257.353842    0.486592    0.836071   14.526497    1.102743   \n",
       "min       1.000000    0.000000    1.000000    0.420000    0.000000   \n",
       "25%     223.500000    0.000000    2.000000   20.125000    0.000000   \n",
       "50%     446.000000    0.000000    3.000000   28.000000    0.000000   \n",
       "75%     668.500000    1.000000    3.000000   38.000000    1.000000   \n",
       "max     891.000000    1.000000    3.000000   80.000000    8.000000   \n",
       "\n",
       "            Parch        Fare  \n",
       "count  891.000000  891.000000  \n",
       "mean     0.381594   32.204208  \n",
       "std      0.806057   49.693429  \n",
       "min      0.000000    0.000000  \n",
       "25%      0.000000    7.910400  \n",
       "50%      0.000000   14.454200  \n",
       "75%      0.000000   31.000000  \n",
       "max      6.000000  512.329200  "
      ]
     },
     "execution_count": 5,
     "metadata": {},
     "output_type": "execute_result"
    }
   ],
   "source": [
    "#3describe\n",
    "df.describe()"
   ]
  },
  {
   "cell_type": "code",
   "execution_count": 10,
   "id": "4025e3aa-23f9-4100-8a4e-c3e736527d82",
   "metadata": {},
   "outputs": [
    {
     "data": {
      "text/html": [
       "<div>\n",
       "<style scoped>\n",
       "    .dataframe tbody tr th:only-of-type {\n",
       "        vertical-align: middle;\n",
       "    }\n",
       "\n",
       "    .dataframe tbody tr th {\n",
       "        vertical-align: top;\n",
       "    }\n",
       "\n",
       "    .dataframe thead th {\n",
       "        text-align: right;\n",
       "    }\n",
       "</style>\n",
       "<table border=\"1\" class=\"dataframe\">\n",
       "  <thead>\n",
       "    <tr style=\"text-align: right;\">\n",
       "      <th></th>\n",
       "      <th>PassengerId</th>\n",
       "      <th>Survived</th>\n",
       "      <th>Pclass</th>\n",
       "    </tr>\n",
       "  </thead>\n",
       "  <tbody>\n",
       "    <tr>\n",
       "      <th>0</th>\n",
       "      <td>1</td>\n",
       "      <td>0</td>\n",
       "      <td>3</td>\n",
       "    </tr>\n",
       "    <tr>\n",
       "      <th>1</th>\n",
       "      <td>2</td>\n",
       "      <td>1</td>\n",
       "      <td>1</td>\n",
       "    </tr>\n",
       "    <tr>\n",
       "      <th>2</th>\n",
       "      <td>3</td>\n",
       "      <td>1</td>\n",
       "      <td>3</td>\n",
       "    </tr>\n",
       "  </tbody>\n",
       "</table>\n",
       "</div>"
      ],
      "text/plain": [
       "   PassengerId  Survived  Pclass\n",
       "0            1         0       3\n",
       "1            2         1       1\n",
       "2            3         1       3"
      ]
     },
     "execution_count": 10,
     "metadata": {},
     "output_type": "execute_result"
    }
   ],
   "source": [
    "#4 loc[:]\n",
    "df.loc[0:2, [\"PassengerId\", \"Survived\", \"Pclass\"]]"
   ]
  },
  {
   "cell_type": "code",
   "execution_count": 13,
   "id": "24893712-b564-4a1c-b4bd-1be2f9ce5f4a",
   "metadata": {},
   "outputs": [
    {
     "data": {
      "text/plain": [
       "[0, 1, 1, 1, 0, ..., 0, 1, 0, 1, 0]\n",
       "Length: 891\n",
       "Categories (2, int64): [0, 1]"
      ]
     },
     "execution_count": 13,
     "metadata": {},
     "output_type": "execute_result"
    }
   ],
   "source": [
    "#5 Categorical\n",
    "pd.Categorical(df[\"Survived\"])"
   ]
  },
  {
   "cell_type": "code",
   "execution_count": 14,
   "id": "eb3782e9-7aad-454b-ab32-117602f9e58b",
   "metadata": {},
   "outputs": [],
   "source": [
    "#Q2. Given a Pandas DataFrame df with columns 'A', 'B', and 'C', write a Python function to re-index the\n",
    "#DataFrame with a new index that starts from 1 and increments by 2 for each row."
   ]
  },
  {
   "cell_type": "code",
   "execution_count": 17,
   "id": "d8b106e0-0ebc-4322-b811-d4dfccfbbeec",
   "metadata": {},
   "outputs": [],
   "source": [
    "a = pd.Series([\"Data Science Master 2.0\", \"Decode with C ++\", \"Decode with Java\"], name = \"Courses\")\n",
    "b = pd.Series([3500, 5999, 5999], name = \"Fees\")\n",
    "c = pd.Series([\"20 Feb 2023\", \"10 Dec 2023\", \"7 Feb 2024\"], name = \"Launch Date\")\n",
    "df2 = pd.concat([a,b,c], axis = 1)"
   ]
  },
  {
   "cell_type": "code",
   "execution_count": 18,
   "id": "ce438569-986a-42b0-aba4-d5fa3e707c19",
   "metadata": {},
   "outputs": [
    {
     "data": {
      "text/html": [
       "<div>\n",
       "<style scoped>\n",
       "    .dataframe tbody tr th:only-of-type {\n",
       "        vertical-align: middle;\n",
       "    }\n",
       "\n",
       "    .dataframe tbody tr th {\n",
       "        vertical-align: top;\n",
       "    }\n",
       "\n",
       "    .dataframe thead th {\n",
       "        text-align: right;\n",
       "    }\n",
       "</style>\n",
       "<table border=\"1\" class=\"dataframe\">\n",
       "  <thead>\n",
       "    <tr style=\"text-align: right;\">\n",
       "      <th></th>\n",
       "      <th>Courses</th>\n",
       "      <th>Fees</th>\n",
       "      <th>Launch Date</th>\n",
       "    </tr>\n",
       "  </thead>\n",
       "  <tbody>\n",
       "    <tr>\n",
       "      <th>1</th>\n",
       "      <td>Data Science Master 2.0</td>\n",
       "      <td>3500</td>\n",
       "      <td>20 Feb 2023</td>\n",
       "    </tr>\n",
       "    <tr>\n",
       "      <th>2</th>\n",
       "      <td>Decode with C ++</td>\n",
       "      <td>5999</td>\n",
       "      <td>10 Dec 2023</td>\n",
       "    </tr>\n",
       "    <tr>\n",
       "      <th>3</th>\n",
       "      <td>Decode with Java</td>\n",
       "      <td>5999</td>\n",
       "      <td>7 Feb 2024</td>\n",
       "    </tr>\n",
       "  </tbody>\n",
       "</table>\n",
       "</div>"
      ],
      "text/plain": [
       "                   Courses  Fees  Launch Date\n",
       "1  Data Science Master 2.0  3500  20 Feb 2023\n",
       "2         Decode with C ++  5999  10 Dec 2023\n",
       "3         Decode with Java  5999   7 Feb 2024"
      ]
     },
     "execution_count": 18,
     "metadata": {},
     "output_type": "execute_result"
    }
   ],
   "source": [
    "df2.index+= 1\n",
    "df2"
   ]
  },
  {
   "cell_type": "code",
   "execution_count": 41,
   "id": "208fbbc5-1d8e-47d5-af88-c4ddfef28798",
   "metadata": {},
   "outputs": [],
   "source": [
    "Var = pd.Series([\"A\", \"B\", \"C\", \"D\", \"E\", \"F\"], name = \"variables\")\n",
    "Val = pd.Series([10, 20, 30, 40, 50, 60], name = \"values\")\n",
    "df = pd.concat([Var, Val], axis = 1)"
   ]
  },
  {
   "cell_type": "code",
   "execution_count": 42,
   "id": "981936af-2840-4627-a9eb-da7bd95084de",
   "metadata": {},
   "outputs": [],
   "source": [
    "def row_sum(df):\n",
    "    c=0\n",
    "    sum = 0\n",
    "    for index in range(len(df)):\n",
    "        if c == 3:\n",
    "            break\n",
    "        c = c + 1\n",
    "        sum = sum + df.loc[index, \"values\"]\n",
    "    return (sum)"
   ]
  },
  {
   "cell_type": "code",
   "execution_count": 43,
   "id": "619176ca-1d00-4699-accd-5df2d9b7906e",
   "metadata": {},
   "outputs": [
    {
     "name": "stdout",
     "output_type": "stream",
     "text": [
      "60\n"
     ]
    }
   ],
   "source": [
    "print(row_sum(df))"
   ]
  },
  {
   "cell_type": "code",
   "execution_count": 98,
   "id": "17914d98-66d7-4498-bbf1-6db025a57910",
   "metadata": {},
   "outputs": [],
   "source": [
    "text = pd.Series([\"aljfklajaljalkdaa\", \"akjsfkjfndsjfnkjfn\", \"klfjsklfnjfnjfkjfh\", \"wklfjklfjlkjfjflkjfj\"], name = \"Text\")\n",
    "df = pd.concat([text], axis = 1)"
   ]
  },
  {
   "cell_type": "code",
   "execution_count": 89,
   "id": "6049c11d-e01c-4efe-95c5-60ffae561757",
   "metadata": {},
   "outputs": [],
   "source": [
    "def count_word(df):\n",
    "    l = []\n",
    "    for index in range(len(df)):\n",
    "        a = df.loc[index, \"Text\"]\n",
    "        c = 0\n",
    "        for i in range(len(a)):\n",
    "            c = c + 1\n",
    "        l.append(c)\n",
    "    df3 = df.assign(Word_Count = l)\n",
    "    return df3"
   ]
  },
  {
   "cell_type": "code",
   "execution_count": 99,
   "id": "09d9f46e-26cd-45ce-a28e-ab370f22f657",
   "metadata": {},
   "outputs": [
    {
     "data": {
      "text/html": [
       "<div>\n",
       "<style scoped>\n",
       "    .dataframe tbody tr th:only-of-type {\n",
       "        vertical-align: middle;\n",
       "    }\n",
       "\n",
       "    .dataframe tbody tr th {\n",
       "        vertical-align: top;\n",
       "    }\n",
       "\n",
       "    .dataframe thead th {\n",
       "        text-align: right;\n",
       "    }\n",
       "</style>\n",
       "<table border=\"1\" class=\"dataframe\">\n",
       "  <thead>\n",
       "    <tr style=\"text-align: right;\">\n",
       "      <th></th>\n",
       "      <th>Text</th>\n",
       "    </tr>\n",
       "  </thead>\n",
       "  <tbody>\n",
       "    <tr>\n",
       "      <th>0</th>\n",
       "      <td>aljfklajaljalkdaa</td>\n",
       "    </tr>\n",
       "    <tr>\n",
       "      <th>1</th>\n",
       "      <td>akjsfkjfndsjfnkjfn</td>\n",
       "    </tr>\n",
       "    <tr>\n",
       "      <th>2</th>\n",
       "      <td>klfjsklfnjfnjfkjfh</td>\n",
       "    </tr>\n",
       "    <tr>\n",
       "      <th>3</th>\n",
       "      <td>wklfjklfjlkjfjflkjfj</td>\n",
       "    </tr>\n",
       "  </tbody>\n",
       "</table>\n",
       "</div>"
      ],
      "text/plain": [
       "                   Text\n",
       "0     aljfklajaljalkdaa\n",
       "1    akjsfkjfndsjfnkjfn\n",
       "2    klfjsklfnjfnjfkjfh\n",
       "3  wklfjklfjlkjfjflkjfj"
      ]
     },
     "execution_count": 99,
     "metadata": {},
     "output_type": "execute_result"
    }
   ],
   "source": [
    "df"
   ]
  },
  {
   "cell_type": "code",
   "execution_count": 101,
   "id": "8c63cb0c-75fa-46cc-bd6f-561acfdb8436",
   "metadata": {},
   "outputs": [
    {
     "data": {
      "text/plain": [
       "4"
      ]
     },
     "execution_count": 101,
     "metadata": {},
     "output_type": "execute_result"
    }
   ],
   "source": [
    "df.size # Gives Total number of rows in dataframe"
   ]
  },
  {
   "cell_type": "code",
   "execution_count": 103,
   "id": "cd168cd2-32ea-4120-bfce-91692af21e0b",
   "metadata": {},
   "outputs": [
    {
     "data": {
      "text/plain": [
       "(4, 1)"
      ]
     },
     "execution_count": 103,
     "metadata": {},
     "output_type": "execute_result"
    }
   ],
   "source": [
    "df.shape # Gives total number of rows as well as column"
   ]
  },
  {
   "cell_type": "code",
   "execution_count": 104,
   "id": "e146557d-d18d-43fc-b977-a31d1ece6703",
   "metadata": {},
   "outputs": [],
   "source": [
    "# pandas.read_excel is used to read excel file in python"
   ]
  },
  {
   "cell_type": "code",
   "execution_count": 109,
   "id": "88c225fd-80d2-4fac-8bff-185ae9624237",
   "metadata": {},
   "outputs": [],
   "source": [
    "Email = pd.Series([\"abc@gmail.com\", \"john.doe@example.com\", \"ravi@outlook.com\"], name = \"Email\")\n",
    "df3 = pd.concat([Email], axis = 1)"
   ]
  },
  {
   "cell_type": "code",
   "execution_count": 119,
   "id": "28fc62f1-38d0-44c5-b39c-f1ed6ec1e9b7",
   "metadata": {},
   "outputs": [
    {
     "data": {
      "text/html": [
       "<div>\n",
       "<style scoped>\n",
       "    .dataframe tbody tr th:only-of-type {\n",
       "        vertical-align: middle;\n",
       "    }\n",
       "\n",
       "    .dataframe tbody tr th {\n",
       "        vertical-align: top;\n",
       "    }\n",
       "\n",
       "    .dataframe thead th {\n",
       "        text-align: right;\n",
       "    }\n",
       "</style>\n",
       "<table border=\"1\" class=\"dataframe\">\n",
       "  <thead>\n",
       "    <tr style=\"text-align: right;\">\n",
       "      <th></th>\n",
       "      <th>Email</th>\n",
       "    </tr>\n",
       "  </thead>\n",
       "  <tbody>\n",
       "    <tr>\n",
       "      <th>0</th>\n",
       "      <td>abc@gmail.com</td>\n",
       "    </tr>\n",
       "    <tr>\n",
       "      <th>1</th>\n",
       "      <td>john.doe@example.com</td>\n",
       "    </tr>\n",
       "    <tr>\n",
       "      <th>2</th>\n",
       "      <td>ravi@outlook.com</td>\n",
       "    </tr>\n",
       "  </tbody>\n",
       "</table>\n",
       "</div>"
      ],
      "text/plain": [
       "                  Email\n",
       "0         abc@gmail.com\n",
       "1  john.doe@example.com\n",
       "2      ravi@outlook.com"
      ]
     },
     "execution_count": 119,
     "metadata": {},
     "output_type": "execute_result"
    }
   ],
   "source": [
    "df3"
   ]
  },
  {
   "cell_type": "code",
   "execution_count": 113,
   "id": "5f292772-da4d-49e3-8039-4bbc4340523b",
   "metadata": {},
   "outputs": [],
   "source": [
    "b = \"a\""
   ]
  },
  {
   "cell_type": "code",
   "execution_count": 114,
   "id": "f63b7ef7-fd21-47fd-a68f-a1f349a63a81",
   "metadata": {},
   "outputs": [],
   "source": [
    "b = b + \"b\""
   ]
  },
  {
   "cell_type": "code",
   "execution_count": 140,
   "id": "435f1c26-fdbf-446c-af6a-4e298e1cd869",
   "metadata": {},
   "outputs": [],
   "source": [
    "def get_user(df):\n",
    "    l = []\n",
    "    for index in range(len(df)):\n",
    "        a = df.loc[index, \"Email\"]\n",
    "        user = ' '\n",
    "        for i in a:\n",
    "            if i == '@':\n",
    "                break\n",
    "            user = user + i\n",
    "        l.append(user)\n",
    "    df = df.assign(Username = l)\n",
    "    return df"
   ]
  },
  {
   "cell_type": "code",
   "execution_count": 143,
   "id": "5b81cb40-b827-49ac-80dc-9e51eb6cf356",
   "metadata": {},
   "outputs": [],
   "source": [
    "df3 = get_user(df3)"
   ]
  },
  {
   "cell_type": "code",
   "execution_count": 144,
   "id": "941d4a9b-53d7-4d76-98d8-854b0dd9572e",
   "metadata": {},
   "outputs": [
    {
     "data": {
      "text/html": [
       "<div>\n",
       "<style scoped>\n",
       "    .dataframe tbody tr th:only-of-type {\n",
       "        vertical-align: middle;\n",
       "    }\n",
       "\n",
       "    .dataframe tbody tr th {\n",
       "        vertical-align: top;\n",
       "    }\n",
       "\n",
       "    .dataframe thead th {\n",
       "        text-align: right;\n",
       "    }\n",
       "</style>\n",
       "<table border=\"1\" class=\"dataframe\">\n",
       "  <thead>\n",
       "    <tr style=\"text-align: right;\">\n",
       "      <th></th>\n",
       "      <th>Email</th>\n",
       "      <th>Username</th>\n",
       "    </tr>\n",
       "  </thead>\n",
       "  <tbody>\n",
       "    <tr>\n",
       "      <th>0</th>\n",
       "      <td>abc@gmail.com</td>\n",
       "      <td>abc</td>\n",
       "    </tr>\n",
       "    <tr>\n",
       "      <th>1</th>\n",
       "      <td>john.doe@example.com</td>\n",
       "      <td>john.doe</td>\n",
       "    </tr>\n",
       "    <tr>\n",
       "      <th>2</th>\n",
       "      <td>ravi@outlook.com</td>\n",
       "      <td>ravi</td>\n",
       "    </tr>\n",
       "  </tbody>\n",
       "</table>\n",
       "</div>"
      ],
      "text/plain": [
       "                  Email   Username\n",
       "0         abc@gmail.com        abc\n",
       "1  john.doe@example.com   john.doe\n",
       "2      ravi@outlook.com       ravi"
      ]
     },
     "execution_count": 144,
     "metadata": {},
     "output_type": "execute_result"
    }
   ],
   "source": [
    "df3"
   ]
  },
  {
   "cell_type": "code",
   "execution_count": 153,
   "id": "e237b9ee-2b78-40c2-bf87-45cc207b2b9e",
   "metadata": {},
   "outputs": [],
   "source": [
    "A = pd.Series([3,8,6,2,9], name = \"A\")\n",
    "B = pd.Series([5,2,9,3,1], name = \"B\")\n",
    "C = pd.Series([1,7,4,5,2], name = \"C\")\n",
    "df4 = pd.concat([A, B, C], axis = 1)"
   ]
  },
  {
   "cell_type": "code",
   "execution_count": 161,
   "id": "62e7b3c6-bf6e-49c3-b5ac-e036a2d95a13",
   "metadata": {},
   "outputs": [],
   "source": [
    "def fun(df):\n",
    "    return df.loc[(df[\"A\"] > 5) & (df[\"B\"] < 10)]"
   ]
  },
  {
   "cell_type": "code",
   "execution_count": 162,
   "id": "c374be72-7293-4d50-a410-fa9b551681a3",
   "metadata": {},
   "outputs": [],
   "source": [
    "df4 = fun(df4)"
   ]
  },
  {
   "cell_type": "code",
   "execution_count": 163,
   "id": "e9861546-745a-4c9a-bdf5-462da9e5a31f",
   "metadata": {},
   "outputs": [
    {
     "data": {
      "text/html": [
       "<div>\n",
       "<style scoped>\n",
       "    .dataframe tbody tr th:only-of-type {\n",
       "        vertical-align: middle;\n",
       "    }\n",
       "\n",
       "    .dataframe tbody tr th {\n",
       "        vertical-align: top;\n",
       "    }\n",
       "\n",
       "    .dataframe thead th {\n",
       "        text-align: right;\n",
       "    }\n",
       "</style>\n",
       "<table border=\"1\" class=\"dataframe\">\n",
       "  <thead>\n",
       "    <tr style=\"text-align: right;\">\n",
       "      <th></th>\n",
       "      <th>A</th>\n",
       "      <th>B</th>\n",
       "      <th>C</th>\n",
       "    </tr>\n",
       "  </thead>\n",
       "  <tbody>\n",
       "    <tr>\n",
       "      <th>1</th>\n",
       "      <td>8</td>\n",
       "      <td>2</td>\n",
       "      <td>7</td>\n",
       "    </tr>\n",
       "    <tr>\n",
       "      <th>2</th>\n",
       "      <td>6</td>\n",
       "      <td>9</td>\n",
       "      <td>4</td>\n",
       "    </tr>\n",
       "    <tr>\n",
       "      <th>4</th>\n",
       "      <td>9</td>\n",
       "      <td>1</td>\n",
       "      <td>2</td>\n",
       "    </tr>\n",
       "  </tbody>\n",
       "</table>\n",
       "</div>"
      ],
      "text/plain": [
       "   A  B  C\n",
       "1  8  2  7\n",
       "2  6  9  4\n",
       "4  9  1  2"
      ]
     },
     "execution_count": 163,
     "metadata": {},
     "output_type": "execute_result"
    }
   ],
   "source": [
    "df4"
   ]
  },
  {
   "cell_type": "code",
   "execution_count": 4,
   "id": "4dc69031-d7d8-4cf0-88c6-c9e12a15d948",
   "metadata": {},
   "outputs": [],
   "source": [
    "Values = pd.Series([100,200,300,400,500], name = \"Values\")"
   ]
  },
  {
   "cell_type": "code",
   "execution_count": 5,
   "id": "5ad9aa6b-f38e-4ab6-b0d1-dce15482ff92",
   "metadata": {},
   "outputs": [],
   "source": [
    "df5 = pd.concat([Values], axis = 1)"
   ]
  },
  {
   "cell_type": "code",
   "execution_count": 6,
   "id": "40044622-bcb8-411c-90ea-f9836f6d034a",
   "metadata": {},
   "outputs": [
    {
     "data": {
      "text/html": [
       "<div>\n",
       "<style scoped>\n",
       "    .dataframe tbody tr th:only-of-type {\n",
       "        vertical-align: middle;\n",
       "    }\n",
       "\n",
       "    .dataframe tbody tr th {\n",
       "        vertical-align: top;\n",
       "    }\n",
       "\n",
       "    .dataframe thead th {\n",
       "        text-align: right;\n",
       "    }\n",
       "</style>\n",
       "<table border=\"1\" class=\"dataframe\">\n",
       "  <thead>\n",
       "    <tr style=\"text-align: right;\">\n",
       "      <th></th>\n",
       "      <th>Values</th>\n",
       "    </tr>\n",
       "  </thead>\n",
       "  <tbody>\n",
       "    <tr>\n",
       "      <th>0</th>\n",
       "      <td>100</td>\n",
       "    </tr>\n",
       "    <tr>\n",
       "      <th>1</th>\n",
       "      <td>200</td>\n",
       "    </tr>\n",
       "    <tr>\n",
       "      <th>2</th>\n",
       "      <td>300</td>\n",
       "    </tr>\n",
       "    <tr>\n",
       "      <th>3</th>\n",
       "      <td>400</td>\n",
       "    </tr>\n",
       "    <tr>\n",
       "      <th>4</th>\n",
       "      <td>500</td>\n",
       "    </tr>\n",
       "  </tbody>\n",
       "</table>\n",
       "</div>"
      ],
      "text/plain": [
       "   Values\n",
       "0     100\n",
       "1     200\n",
       "2     300\n",
       "3     400\n",
       "4     500"
      ]
     },
     "execution_count": 6,
     "metadata": {},
     "output_type": "execute_result"
    }
   ],
   "source": [
    "df5"
   ]
  },
  {
   "cell_type": "code",
   "execution_count": 15,
   "id": "ea49b591-3687-41b4-8df1-c128d41e12f4",
   "metadata": {},
   "outputs": [],
   "source": [
    "def mean_median_mode(df, type):\n",
    "    import statistics\n",
    "    if type == \"mean\":\n",
    "        num = 0\n",
    "        c = 0\n",
    "        for index in range(len(df)):\n",
    "            num = num + df.loc[index, \"Values\"]\n",
    "            c = c+1\n",
    "        mean = num/c\n",
    "        return mean\n",
    "    elif type == \"median\":\n",
    "        l = []\n",
    "        for index in range(len(df)):\n",
    "            l.append(df.loc[index, \"Values\"])\n",
    "        med = statistics.median(l)\n",
    "        return med\n",
    "    elif type == \"mode\":\n",
    "        l = []\n",
    "        for index in range(len(df)):\n",
    "            l.append(df.loc[index, \"Values\"])\n",
    "        mod = statistics.mode(l)\n",
    "        return mod"
   ]
  },
  {
   "cell_type": "code",
   "execution_count": 8,
   "id": "0a709d89-89b8-4a47-b911-0ea0e1c9ab96",
   "metadata": {},
   "outputs": [],
   "source": [
    "mean = mean_median_mode(df5, \"mean\")"
   ]
  },
  {
   "cell_type": "code",
   "execution_count": 9,
   "id": "c4381b33-109e-4045-b6a7-61cb84442c9c",
   "metadata": {},
   "outputs": [
    {
     "name": "stdout",
     "output_type": "stream",
     "text": [
      "300.0\n"
     ]
    }
   ],
   "source": [
    "print(mean)"
   ]
  },
  {
   "cell_type": "code",
   "execution_count": 16,
   "id": "0556417b-30b9-4845-964e-73bda0004aaa",
   "metadata": {},
   "outputs": [],
   "source": [
    "mode = mean_median_mode(df5, \"mode\")"
   ]
  },
  {
   "cell_type": "code",
   "execution_count": 17,
   "id": "3784e4a3-9006-4ba0-9edf-fc40ba43f893",
   "metadata": {},
   "outputs": [
    {
     "name": "stdout",
     "output_type": "stream",
     "text": [
      "100\n"
     ]
    }
   ],
   "source": [
    "print(mode)"
   ]
  },
  {
   "cell_type": "code",
   "execution_count": 18,
   "id": "b2e8e907-4e79-42a4-9dcc-28746b1d2681",
   "metadata": {},
   "outputs": [],
   "source": [
    "median = mean_median_mode(df5, \"median\")"
   ]
  },
  {
   "cell_type": "code",
   "execution_count": 19,
   "id": "7985ef79-d226-4aeb-a738-220a0fafb23b",
   "metadata": {},
   "outputs": [
    {
     "name": "stdout",
     "output_type": "stream",
     "text": [
      "300\n"
     ]
    }
   ],
   "source": [
    "print(median)"
   ]
  },
  {
   "cell_type": "code",
   "execution_count": 33,
   "id": "9f251b0b-1ba1-492e-b84d-f5323bc186fd",
   "metadata": {},
   "outputs": [],
   "source": [
    "def moving_average(df):\n",
    "    c = 1\n",
    "    l = []\n",
    "    num = 0\n",
    "    for index in range(len(df)):\n",
    "        if c < 7 :\n",
    "            l.append(\"NA\")\n",
    "            num = num + df.loc[index, \"Sales\"]\n",
    "            c = c+1\n",
    "        else:\n",
    "            num = num + df.loc[index, \"Sales\"]\n",
    "            l.append(num)\n",
    "            a = df.loc[index, \"Sales\"]\n",
    "    df = df.assign(Moving_average = l)\n",
    "    return df        "
   ]
  },
  {
   "cell_type": "code",
   "execution_count": 21,
   "id": "5b7d6c02-7351-4f7d-8113-7d14d27c108b",
   "metadata": {},
   "outputs": [],
   "source": [
    "Sales = pd.Series([100,200,300,400,500,600,700,800,900,1000], name = \"Sales\")\n",
    "Date = pd.Series([\"2.01.24\", \"3.01.24\", \"4.01.24\", \"5.01.24\", \"6.01.24\", \"7.01.24\", \"8.01.24\", \"9.01.24\", \"10.01.24\", \"11.01.24\"], name = \"Date\")\n",
    "df5 = pd.concat([Date, Sales], axis = 1)"
   ]
  },
  {
   "cell_type": "code",
   "execution_count": 22,
   "id": "2b62f051-5e33-469e-80a7-9d54927c7606",
   "metadata": {},
   "outputs": [
    {
     "data": {
      "text/html": [
       "<div>\n",
       "<style scoped>\n",
       "    .dataframe tbody tr th:only-of-type {\n",
       "        vertical-align: middle;\n",
       "    }\n",
       "\n",
       "    .dataframe tbody tr th {\n",
       "        vertical-align: top;\n",
       "    }\n",
       "\n",
       "    .dataframe thead th {\n",
       "        text-align: right;\n",
       "    }\n",
       "</style>\n",
       "<table border=\"1\" class=\"dataframe\">\n",
       "  <thead>\n",
       "    <tr style=\"text-align: right;\">\n",
       "      <th></th>\n",
       "      <th>Date</th>\n",
       "      <th>Sales</th>\n",
       "    </tr>\n",
       "  </thead>\n",
       "  <tbody>\n",
       "    <tr>\n",
       "      <th>0</th>\n",
       "      <td>2.01.24</td>\n",
       "      <td>100</td>\n",
       "    </tr>\n",
       "    <tr>\n",
       "      <th>1</th>\n",
       "      <td>3.01.24</td>\n",
       "      <td>200</td>\n",
       "    </tr>\n",
       "    <tr>\n",
       "      <th>2</th>\n",
       "      <td>4.01.24</td>\n",
       "      <td>300</td>\n",
       "    </tr>\n",
       "    <tr>\n",
       "      <th>3</th>\n",
       "      <td>5.01.24</td>\n",
       "      <td>400</td>\n",
       "    </tr>\n",
       "    <tr>\n",
       "      <th>4</th>\n",
       "      <td>6.01.24</td>\n",
       "      <td>500</td>\n",
       "    </tr>\n",
       "    <tr>\n",
       "      <th>5</th>\n",
       "      <td>7.01.24</td>\n",
       "      <td>600</td>\n",
       "    </tr>\n",
       "    <tr>\n",
       "      <th>6</th>\n",
       "      <td>8.01.24</td>\n",
       "      <td>700</td>\n",
       "    </tr>\n",
       "    <tr>\n",
       "      <th>7</th>\n",
       "      <td>9.01.24</td>\n",
       "      <td>800</td>\n",
       "    </tr>\n",
       "    <tr>\n",
       "      <th>8</th>\n",
       "      <td>10.01.24</td>\n",
       "      <td>900</td>\n",
       "    </tr>\n",
       "    <tr>\n",
       "      <th>9</th>\n",
       "      <td>11.01.24</td>\n",
       "      <td>1000</td>\n",
       "    </tr>\n",
       "  </tbody>\n",
       "</table>\n",
       "</div>"
      ],
      "text/plain": [
       "       Date  Sales\n",
       "0   2.01.24    100\n",
       "1   3.01.24    200\n",
       "2   4.01.24    300\n",
       "3   5.01.24    400\n",
       "4   6.01.24    500\n",
       "5   7.01.24    600\n",
       "6   8.01.24    700\n",
       "7   9.01.24    800\n",
       "8  10.01.24    900\n",
       "9  11.01.24   1000"
      ]
     },
     "execution_count": 22,
     "metadata": {},
     "output_type": "execute_result"
    }
   ],
   "source": [
    "df5"
   ]
  },
  {
   "cell_type": "code",
   "execution_count": 34,
   "id": "298dffdb-db6a-4330-9ae1-406f524352ba",
   "metadata": {},
   "outputs": [],
   "source": [
    "df5 = moving_average(df5)"
   ]
  },
  {
   "cell_type": "code",
   "execution_count": 1,
   "id": "f0ac7523-6584-4ced-93f2-3fce3ee5a85c",
   "metadata": {},
   "outputs": [
    {
     "ename": "NameError",
     "evalue": "name 'df5' is not defined",
     "output_type": "error",
     "traceback": [
      "\u001b[0;31m---------------------------------------------------------------------------\u001b[0m",
      "\u001b[0;31mNameError\u001b[0m                                 Traceback (most recent call last)",
      "Cell \u001b[0;32mIn[1], line 1\u001b[0m\n\u001b[0;32m----> 1\u001b[0m \u001b[43mdf5\u001b[49m\n",
      "\u001b[0;31mNameError\u001b[0m: name 'df5' is not defined"
     ]
    }
   ],
   "source": [
    "df5"
   ]
  },
  {
   "cell_type": "code",
   "execution_count": 2,
   "id": "c48e40ea-c489-4d43-bc0b-84deb0394f93",
   "metadata": {},
   "outputs": [],
   "source": [
    "def weekday(df):\n",
    "    weekday = [\"Sunday\", \"Monday\", \"Tuesday\", \"Wednesday\", \"Thursday\", \"Friday\", \"Saturday\"]\n",
    "    l = []\n",
    "    c = 0\n",
    "    for index in range(len(df)):\n",
    "        l.append(weekday[c])\n",
    "        c = c+1\n",
    "        if c==7:\n",
    "            c = 0\n",
    "    df = df.assign(weekdays = l)\n",
    "    return df"
   ]
  },
  {
   "cell_type": "code",
   "execution_count": 5,
   "id": "de0bda84-4141-42d6-8060-64f1702b8961",
   "metadata": {},
   "outputs": [],
   "source": [
    "date = pd.Series([\"2023-01-01\", \"2023-01-02\", \"2023-01-03\", \"2023-01-04\", \"2023-01-05\"], name = \"Date\")\n",
    "df6 = pd.concat([date], axis = 1)"
   ]
  },
  {
   "cell_type": "code",
   "execution_count": 6,
   "id": "355ec208-1add-46a4-a28c-1b4cd1b905bd",
   "metadata": {},
   "outputs": [
    {
     "data": {
      "text/html": [
       "<div>\n",
       "<style scoped>\n",
       "    .dataframe tbody tr th:only-of-type {\n",
       "        vertical-align: middle;\n",
       "    }\n",
       "\n",
       "    .dataframe tbody tr th {\n",
       "        vertical-align: top;\n",
       "    }\n",
       "\n",
       "    .dataframe thead th {\n",
       "        text-align: right;\n",
       "    }\n",
       "</style>\n",
       "<table border=\"1\" class=\"dataframe\">\n",
       "  <thead>\n",
       "    <tr style=\"text-align: right;\">\n",
       "      <th></th>\n",
       "      <th>Date</th>\n",
       "    </tr>\n",
       "  </thead>\n",
       "  <tbody>\n",
       "    <tr>\n",
       "      <th>0</th>\n",
       "      <td>2023-01-01</td>\n",
       "    </tr>\n",
       "    <tr>\n",
       "      <th>1</th>\n",
       "      <td>2023-01-02</td>\n",
       "    </tr>\n",
       "    <tr>\n",
       "      <th>2</th>\n",
       "      <td>2023-01-03</td>\n",
       "    </tr>\n",
       "    <tr>\n",
       "      <th>3</th>\n",
       "      <td>2023-01-04</td>\n",
       "    </tr>\n",
       "    <tr>\n",
       "      <th>4</th>\n",
       "      <td>2023-01-05</td>\n",
       "    </tr>\n",
       "  </tbody>\n",
       "</table>\n",
       "</div>"
      ],
      "text/plain": [
       "         Date\n",
       "0  2023-01-01\n",
       "1  2023-01-02\n",
       "2  2023-01-03\n",
       "3  2023-01-04\n",
       "4  2023-01-05"
      ]
     },
     "execution_count": 6,
     "metadata": {},
     "output_type": "execute_result"
    }
   ],
   "source": [
    "df6"
   ]
  },
  {
   "cell_type": "code",
   "execution_count": 7,
   "id": "e8b10e34-c523-40a1-b483-c4bf7f3c3f93",
   "metadata": {},
   "outputs": [
    {
     "name": "stdout",
     "output_type": "stream",
     "text": [
      "         Date   weekdays\n",
      "0  2023-01-01     Sunday\n",
      "1  2023-01-02     Monday\n",
      "2  2023-01-03    Tuesday\n",
      "3  2023-01-04  Wednesday\n",
      "4  2023-01-05   Thursday\n"
     ]
    }
   ],
   "source": [
    "df6 = weekday(df6)\n",
    "print(df6)"
   ]
  },
  {
   "cell_type": "code",
   "execution_count": 51,
   "id": "67e14cee-87dc-493b-9ba7-f692ff11ec55",
   "metadata": {},
   "outputs": [],
   "source": [
    "def timestamp(df, start, end):\n",
    "    l = []\n",
    "    df2 = pd.DataFrame()\n",
    "    for index in range(len(df)):\n",
    "        d = df.loc[index, \"Date\"]\n",
    "        if d == start:\n",
    "            l.append(d)\n",
    "            for i in range(index, len(df)):\n",
    "                d = df.loc[i, \"Date\"]\n",
    "                if d == end:\n",
    "                    l.append(d)\n",
    "                    break\n",
    "                else:\n",
    "                    l.append(d)\n",
    "    for i in range(len(l)):\n",
    "        df2 = df2.append(df.loc[df[\"Date\"] == l[i]])\n",
    "    print(df2)"
   ]
  },
  {
   "cell_type": "code",
   "execution_count": 47,
   "id": "83b84d15-7c3d-4360-870f-4bac9acf9de8",
   "metadata": {},
   "outputs": [],
   "source": [
    "date = pd.Series(['2023-01-01', '2023-01-02', '2023-01-05', '2023-01-07', '2023-01-09', '2023-01-10', '2023-01-19', '2023-01-21', '2023-01-25', '2023-01-31'], name = \"Date\")\n",
    "data = pd.Series([23,34,45,65,67,76,78,87,89,90], name = \"Data\")\n",
    "df7 = pd.concat([date, data], axis = 1)"
   ]
  },
  {
   "cell_type": "code",
   "execution_count": 48,
   "id": "03626d4f-35cc-40fc-b231-1128e3167765",
   "metadata": {},
   "outputs": [
    {
     "data": {
      "text/html": [
       "<div>\n",
       "<style scoped>\n",
       "    .dataframe tbody tr th:only-of-type {\n",
       "        vertical-align: middle;\n",
       "    }\n",
       "\n",
       "    .dataframe tbody tr th {\n",
       "        vertical-align: top;\n",
       "    }\n",
       "\n",
       "    .dataframe thead th {\n",
       "        text-align: right;\n",
       "    }\n",
       "</style>\n",
       "<table border=\"1\" class=\"dataframe\">\n",
       "  <thead>\n",
       "    <tr style=\"text-align: right;\">\n",
       "      <th></th>\n",
       "      <th>Date</th>\n",
       "      <th>Data</th>\n",
       "    </tr>\n",
       "  </thead>\n",
       "  <tbody>\n",
       "    <tr>\n",
       "      <th>0</th>\n",
       "      <td>2023-01-01</td>\n",
       "      <td>23</td>\n",
       "    </tr>\n",
       "    <tr>\n",
       "      <th>1</th>\n",
       "      <td>2023-01-02</td>\n",
       "      <td>34</td>\n",
       "    </tr>\n",
       "    <tr>\n",
       "      <th>2</th>\n",
       "      <td>2023-01-05</td>\n",
       "      <td>45</td>\n",
       "    </tr>\n",
       "    <tr>\n",
       "      <th>3</th>\n",
       "      <td>2023-01-07</td>\n",
       "      <td>65</td>\n",
       "    </tr>\n",
       "    <tr>\n",
       "      <th>4</th>\n",
       "      <td>2023-01-09</td>\n",
       "      <td>67</td>\n",
       "    </tr>\n",
       "    <tr>\n",
       "      <th>5</th>\n",
       "      <td>2023-01-10</td>\n",
       "      <td>76</td>\n",
       "    </tr>\n",
       "    <tr>\n",
       "      <th>6</th>\n",
       "      <td>2023-01-19</td>\n",
       "      <td>78</td>\n",
       "    </tr>\n",
       "    <tr>\n",
       "      <th>7</th>\n",
       "      <td>2023-01-21</td>\n",
       "      <td>87</td>\n",
       "    </tr>\n",
       "    <tr>\n",
       "      <th>8</th>\n",
       "      <td>2023-01-25</td>\n",
       "      <td>89</td>\n",
       "    </tr>\n",
       "    <tr>\n",
       "      <th>9</th>\n",
       "      <td>2023-01-31</td>\n",
       "      <td>90</td>\n",
       "    </tr>\n",
       "  </tbody>\n",
       "</table>\n",
       "</div>"
      ],
      "text/plain": [
       "         Date  Data\n",
       "0  2023-01-01    23\n",
       "1  2023-01-02    34\n",
       "2  2023-01-05    45\n",
       "3  2023-01-07    65\n",
       "4  2023-01-09    67\n",
       "5  2023-01-10    76\n",
       "6  2023-01-19    78\n",
       "7  2023-01-21    87\n",
       "8  2023-01-25    89\n",
       "9  2023-01-31    90"
      ]
     },
     "execution_count": 48,
     "metadata": {},
     "output_type": "execute_result"
    }
   ],
   "source": [
    "df7"
   ]
  },
  {
   "cell_type": "code",
   "execution_count": 52,
   "id": "d730190b-d9c3-4048-8abf-9ddd32124fb0",
   "metadata": {},
   "outputs": [
    {
     "name": "stdout",
     "output_type": "stream",
     "text": [
      "         Date  Data\n",
      "1  2023-01-02    34\n",
      "1  2023-01-02    34\n",
      "2  2023-01-05    45\n",
      "3  2023-01-07    65\n",
      "4  2023-01-09    67\n",
      "5  2023-01-10    76\n",
      "6  2023-01-19    78\n",
      "7  2023-01-21    87\n",
      "8  2023-01-25    89\n"
     ]
    },
    {
     "name": "stderr",
     "output_type": "stream",
     "text": [
      "/tmp/ipykernel_77/2474138473.py:16: FutureWarning: The frame.append method is deprecated and will be removed from pandas in a future version. Use pandas.concat instead.\n",
      "  df2 = df2.append(df.loc[df[\"Date\"] == l[i]])\n",
      "/tmp/ipykernel_77/2474138473.py:16: FutureWarning: The frame.append method is deprecated and will be removed from pandas in a future version. Use pandas.concat instead.\n",
      "  df2 = df2.append(df.loc[df[\"Date\"] == l[i]])\n",
      "/tmp/ipykernel_77/2474138473.py:16: FutureWarning: The frame.append method is deprecated and will be removed from pandas in a future version. Use pandas.concat instead.\n",
      "  df2 = df2.append(df.loc[df[\"Date\"] == l[i]])\n",
      "/tmp/ipykernel_77/2474138473.py:16: FutureWarning: The frame.append method is deprecated and will be removed from pandas in a future version. Use pandas.concat instead.\n",
      "  df2 = df2.append(df.loc[df[\"Date\"] == l[i]])\n",
      "/tmp/ipykernel_77/2474138473.py:16: FutureWarning: The frame.append method is deprecated and will be removed from pandas in a future version. Use pandas.concat instead.\n",
      "  df2 = df2.append(df.loc[df[\"Date\"] == l[i]])\n",
      "/tmp/ipykernel_77/2474138473.py:16: FutureWarning: The frame.append method is deprecated and will be removed from pandas in a future version. Use pandas.concat instead.\n",
      "  df2 = df2.append(df.loc[df[\"Date\"] == l[i]])\n",
      "/tmp/ipykernel_77/2474138473.py:16: FutureWarning: The frame.append method is deprecated and will be removed from pandas in a future version. Use pandas.concat instead.\n",
      "  df2 = df2.append(df.loc[df[\"Date\"] == l[i]])\n",
      "/tmp/ipykernel_77/2474138473.py:16: FutureWarning: The frame.append method is deprecated and will be removed from pandas in a future version. Use pandas.concat instead.\n",
      "  df2 = df2.append(df.loc[df[\"Date\"] == l[i]])\n",
      "/tmp/ipykernel_77/2474138473.py:16: FutureWarning: The frame.append method is deprecated and will be removed from pandas in a future version. Use pandas.concat instead.\n",
      "  df2 = df2.append(df.loc[df[\"Date\"] == l[i]])\n"
     ]
    }
   ],
   "source": [
    "timestamp(df7, \"2023-01-02\", \"2023-01-25\")"
   ]
  },
  {
   "cell_type": "code",
   "execution_count": 53,
   "id": "1a922d19-0cbd-4387-8607-684283d7b5e9",
   "metadata": {},
   "outputs": [],
   "source": [
    "# To use basic functions of pandas we need to import pandas library"
   ]
  }
 ],
 "metadata": {
  "kernelspec": {
   "display_name": "Python 3 (ipykernel)",
   "language": "python",
   "name": "python3"
  },
  "language_info": {
   "codemirror_mode": {
    "name": "ipython",
    "version": 3
   },
   "file_extension": ".py",
   "mimetype": "text/x-python",
   "name": "python",
   "nbconvert_exporter": "python",
   "pygments_lexer": "ipython3",
   "version": "3.10.8"
  }
 },
 "nbformat": 4,
 "nbformat_minor": 5
}
