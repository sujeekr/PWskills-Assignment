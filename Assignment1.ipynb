{
 "cells": [
  {
   "cell_type": "code",
   "execution_count": null,
   "id": "b73be269-9451-4072-9e55-27df1137abb5",
   "metadata": {},
   "outputs": [],
   "source": [
    "#   Q1\n",
    "a = \"Hello World\" # string data type\n",
    "b = [1,2,3,\"PW\",\"Skills\"] # List data type\n",
    "c = 2.5 # Float data type\n",
    "d = (1,2,3,4) #Tuple data type"
   ]
  },
  {
   "cell_type": "code",
   "execution_count": null,
   "id": "404c0bc9-35e2-45a9-ab2c-edeab6ff8bef",
   "metadata": {},
   "outputs": [],
   "source": [
    "#   Q2\n",
    "var = '' # string data type\n",
    "var2 = '[DS,ML,Python]' # String data type\n",
    "var3 = ['DS','ML','Python'] # List data type\n",
    "var4  = 1 # String data type"
   ]
  },
  {
   "cell_type": "code",
   "execution_count": null,
   "id": "6ce6418b-6fde-4766-8ee1-f779164b376d",
   "metadata": {},
   "outputs": [],
   "source": [
    "#   Q3\n",
    "a = 2/3 # / is division operator\n",
    "b = 2%3 # % is modulo operator, it return remainder\n",
    "c = 2//3 # // is floor division operator, it return slargest integer of quotient.\n",
    "d = 2**3 # it is exponential operator.\n"
   ]
  },
  {
   "cell_type": "code",
   "execution_count": null,
   "id": "1b98f0c6-7fd6-4cdc-b5cd-16f3ec48654b",
   "metadata": {},
   "outputs": [],
   "source": [
    "#   Q4\n",
    "l = [1,\"pw\",\"lAB\",2.8,True,1000,\"Skills\",1000,\"Suj\",\"Kum\"]\n",
    "for i in l:\n",
    "    print(i)\n",
    "    print(type(i))"
   ]
  },
  {
   "cell_type": "code",
   "execution_count": null,
   "id": "e65157be-e1e5-40b7-bb1d-dd530b03a5eb",
   "metadata": {},
   "outputs": [],
   "source": [
    "#   Q5\n",
    "a = int(input(\"Enter number A : \"))\n",
    "b = int(input(\"Enter number B : \"))\n",
    "if a % b == 0 :\n",
    "    c = 0\n",
    "    d = a\n",
    "    while a%b == 0:\n",
    "        c = c+1\n",
    "        a = a//b\n",
    "    else :\n",
    "        print(d, \"is divisible by \", b, \",\", c, \"times\")\n",
    "else :\n",
    "    print(a,' is not divisible by ',b)\n",
    "    "
   ]
  },
  {
   "cell_type": "code",
   "execution_count": null,
   "id": "69ed7e36-93b1-4977-95b8-c9b94af0a066",
   "metadata": {},
   "outputs": [],
   "source": [
    "#   Q6\n",
    "l = []\n",
    "for i in range(25):\n",
    "    l.append(int(input(\"Enter Number : - \")))\n",
    "print(l)\n",
    "for  i in l:\n",
    "    if i % 3 == 0 :\n",
    "        print(i,\" is divisible by 3\")\n",
    "    else:\n",
    "        print(i, \"is not divisible by 3\")"
   ]
  },
  {
   "cell_type": "code",
   "execution_count": null,
   "id": "aa9eb31b-5a52-41f9-bf83-156b1af8c9e9",
   "metadata": {},
   "outputs": [],
   "source": [
    "# Q7\n",
    "# Immutable data types are those data types whose elements cannot be altered, for example: strings, tuples are immutable data types\n",
    "a = \"abc\"\n",
    "a[1] = \"d\" # Here it will show an error because a is string which is immutable datat type\n",
    "# Mutable data types are those datat types whose elements can be altered, for example : - lists are mutable data types\n",
    "l = [1,3,4]\n",
    "l[2] = 5 # This statememt will be executed without giving an error."
   ]
  }
 ],
 "metadata": {
  "kernelspec": {
   "display_name": "Python 3 (ipykernel)",
   "language": "python",
   "name": "python3"
  },
  "language_info": {
   "codemirror_mode": {
    "name": "ipython",
    "version": 3
   },
   "file_extension": ".py",
   "mimetype": "text/x-python",
   "name": "python",
   "nbconvert_exporter": "python",
   "pygments_lexer": "ipython3",
   "version": "3.10.8"
  }
 },
 "nbformat": 4,
 "nbformat_minor": 5
}
