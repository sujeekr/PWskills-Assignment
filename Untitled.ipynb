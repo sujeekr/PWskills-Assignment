{
 "cells": [
  {
   "cell_type": "markdown",
   "id": "4821cb41-cc1a-45fc-9faa-58c57051bd6a",
   "metadata": {},
   "source": [
    "Q1"
   ]
  },
  {
   "cell_type": "code",
   "execution_count": 3,
   "id": "28c8f830-4f62-43de-8165-d3077ee3b66c",
   "metadata": {},
   "outputs": [],
   "source": [
    "# 1. Anything that can perform task without human intervention is machine learning.\n",
    "# 2. Machine learning is subset of artificial intelligence that provides statisitical tool to analyze data and provide unssen output.\n",
    "# 3. Deep learning is subset of machine learning which mimics the human brain."
   ]
  },
  {
   "cell_type": "markdown",
   "id": "1cb02781-9a86-4ed7-b832-44cc15fdb9f7",
   "metadata": {},
   "source": [
    "Q2"
   ]
  },
  {
   "cell_type": "code",
   "execution_count": 4,
   "id": "92a303c4-734d-49ba-a66b-266c9e1e361a",
   "metadata": {},
   "outputs": [],
   "source": [
    "# In supervised learning, we provide data to the algorithm and it provides output according to the data.\n",
    "#Example : We have a set of data which includes the record of study time and play time of a student and based on the data, the alogorithm predicts the output as fail or pass for a student."
   ]
  },
  {
   "cell_type": "markdown",
   "id": "7ce6ec27-2351-47fe-8bd5-06ee96ef9411",
   "metadata": {},
   "source": [
    "Q3"
   ]
  },
  {
   "cell_type": "code",
   "execution_count": 5,
   "id": "5f5427cb-c1cb-4bab-b939-ca22e8e9923a",
   "metadata": {},
   "outputs": [],
   "source": [
    "#Unlike supervised learning, the algorith does not give any output in the unsupervised learning, rather it clusters the data into groups.\n",
    "#Example : There are group of people who spends their money in expenditures and other group who dont perchase expemnditure."
   ]
  },
  {
   "cell_type": "markdown",
   "id": "a0d0d4bd-07e1-4061-bb2e-7dd0573c4a3f",
   "metadata": {},
   "source": [
    "Q4"
   ]
  },
  {
   "cell_type": "code",
   "execution_count": 6,
   "id": "9cb0d3dc-7359-40f7-9024-a1e08ece97e5",
   "metadata": {},
   "outputs": [],
   "source": [
    "#AI : Anything that can perform task without human intervention is machine learning.\n",
    "#ML : Machine learning is subset of artificial intelligence that provides statisitical tool to analyze data and provide unssen output.\n",
    "#DL : Deep learning is subset of machine learning which mimics the human brain.\n",
    "#DS : It combines all the field of AI, ML and machine learning."
   ]
  },
  {
   "cell_type": "markdown",
   "id": "e97120c6-cf9b-49f3-a8ba-b88e8ce6978a",
   "metadata": {},
   "source": [
    "Q5"
   ]
  },
  {
   "cell_type": "code",
   "execution_count": 7,
   "id": "a51c3b59-f750-4dbe-8536-67c476dfd8a9",
   "metadata": {},
   "outputs": [],
   "source": [
    "#Supervised :  In supervised learning, we  data to the algorithm and it provides output according to the data.\n",
    "#Unsupervised : Unlike supervised learning, the algorith does not give any output in the unsupervised learning, rather it clusters the data into groups.\n",
    "# Semi-supervised : In semi supervised learning, we feed data to the algorithm , and the algorithm predicts new output and clusters the output. It is like combination of supervised and unsupervised learning."
   ]
  },
  {
   "cell_type": "markdown",
   "id": "5cbd62d1-6b6c-4361-8223-a7b951a25147",
   "metadata": {},
   "source": [
    "Q6"
   ]
  },
  {
   "cell_type": "code",
   "execution_count": 9,
   "id": "e8fee5be-62b1-4ce9-b3aa-a479789a4cd9",
   "metadata": {},
   "outputs": [],
   "source": [
    "#Train dataset : In training dataset, we train the model by feeding useful data into the algorithm. It is like studying books for a student while preparing for the exam.\n",
    "# Validation dataset : In validation dataset, we optimize the model. It is like reparing questions before the exam for a student.\n",
    "# Test dataset. In test dataset, we evaluate our model. It is like exam of an student."
   ]
  },
  {
   "cell_type": "markdown",
   "id": "27e2995c-5ff8-4658-9d96-958f2587af4e",
   "metadata": {},
   "source": [
    "Q7"
   ]
  },
  {
   "cell_type": "code",
   "execution_count": null,
   "id": "b9196ea3-f6dd-4c5f-9c92-f50d16ae68d9",
   "metadata": {},
   "outputs": [],
   "source": [
    "# Unsupervised learning is helpful in anomaly detection, when there is no labeled dataset available."
   ]
  },
  {
   "cell_type": "markdown",
   "id": "96db705a-356c-4839-853c-2f80bddeb852",
   "metadata": {},
   "source": [
    "Q8"
   ]
  },
  {
   "cell_type": "code",
   "execution_count": null,
   "id": "d9cb38d7-0c9b-43c3-b4e7-18e5cce5388f",
   "metadata": {},
   "outputs": [],
   "source": [
    "# Some most common supervised learning algorithms are : decision tree, logistic algorithm, linear regeression, support vector machine, et"
   ]
  }
 ],
 "metadata": {
  "kernelspec": {
   "display_name": "Python 3 (ipykernel)",
   "language": "python",
   "name": "python3"
  },
  "language_info": {
   "codemirror_mode": {
    "name": "ipython",
    "version": 3
   },
   "file_extension": ".py",
   "mimetype": "text/x-python",
   "name": "python",
   "nbconvert_exporter": "python",
   "pygments_lexer": "ipython3",
   "version": "3.10.8"
  }
 },
 "nbformat": 4,
 "nbformat_minor": 5
}
